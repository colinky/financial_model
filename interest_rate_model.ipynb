{
 "cells": [
  {
   "cell_type": "code",
   "execution_count": 98,
   "source": [
    "!pip install openpyxl xlrd\n",
    "import numpy as np\n",
    "import pandas as pd\n",
    "import datetime as dt"
   ],
   "outputs": [
    {
     "output_type": "stream",
     "name": "stdout",
     "text": [
      "\u001b[33mDEPRECATION: Configuring installation scheme with distutils config files is deprecated and will no longer work in the near future. If you are using a Homebrew or Linuxbrew Python, please see discussion at https://github.com/Homebrew/homebrew-core/issues/76621\u001b[0m\n",
      "Requirement already satisfied: openpyxl in /usr/local/lib/python3.9/site-packages (3.0.9)\n",
      "Requirement already satisfied: xlrd in /usr/local/lib/python3.9/site-packages (2.0.1)\n",
      "Requirement already satisfied: et-xmlfile in /usr/local/lib/python3.9/site-packages (from openpyxl) (1.1.0)\n"
     ]
    }
   ],
   "metadata": {}
  },
  {
   "cell_type": "markdown",
   "source": [
    "# Vasicek Model (Brigo-Mercurio 3.2.1(2006))"
   ],
   "metadata": {}
  },
  {
   "cell_type": "code",
   "execution_count": 142,
   "source": [
    "df_spread = pd.read_excel('./BAA10Y.xls', sheet_name='FRED Graph')\n",
    "df_spread = df_spread.rename(columns={'observation_date':'date'}).fillna(method='ffill')\n",
    "df_spread['date_desc'] = df_spread.sort_values(['date'], ascending=[False]).groupby(df_spread['date'].dt.strftime('%Y-%m')).cumcount() + 1\n",
    "# df_spread = df_spread[df_spread['date_desc'] == 1]\n",
    "# df_spread = df_spread[df_spread['date'].dt.day_name()=='Friday']\n",
    "df_spread['lagged'] = df_spread['BAA10Y'].shift(1)\n",
    "# with pd.option_context('display.max_rows', None, 'display.max_columns', None):  # more options can be specified also\n",
    "#     print(df_spread)\n",
    "cols, rows = df_spread.shape\n",
    "print(cols, rows)\n",
    "n = cols - 1\n",
    "d = 20/cols\n",
    "c_baa = df_spread.columns.get_loc('BAA10Y')\n",
    "c_lag = df_spread.columns.get_loc('lagged')"
   ],
   "outputs": [
    {
     "output_type": "stream",
     "name": "stdout",
     "text": [
      "5219 4\n"
     ]
    }
   ],
   "metadata": {}
  },
  {
   "cell_type": "code",
   "execution_count": 143,
   "source": [
    "sum_paced = df_spread.iloc[1:cols,c_baa].sum()\n",
    "sum_lagged = df_spread.iloc[1:cols,c_lag].sum()\n",
    "sum_lagged_squares = (df_spread.iloc[1:cols,c_lag]**2).sum()\n",
    "sum_paced_lagged = (df_spread.iloc[1:cols,c_baa]*df_spread.iloc[1:cols,c_lag]).sum()\n",
    "alpha_hat = (n * sum_paced_lagged - sum_paced * sum_lagged) / (n * sum_lagged_squares - sum_lagged ** 2)\n",
    "beta_hat = (sum_paced - alpha_hat * sum_lagged) / (n * (1 - alpha_hat))\n",
    "v_square_hat = 1/n * ((df_spread.iloc[1:cols,c_baa] - alpha_hat * df_spread.iloc[1:cols,c_lag] - beta_hat * (1 - alpha_hat)) ** 2).sum()\n",
    "a = np.log(alpha_hat)/(-d)\n",
    "b = beta_hat * a\n",
    "sigma = np.sqrt(2 * a * v_square_hat/(1-alpha_hat**2))\n",
    "kappa = a\n",
    "theta = beta_hat\n",
    "print(f'mean-reversion speed: {kappa:.4f}, long-term mean: {theta:.4f}, volatility: {sigma:.4f}')"
   ],
   "outputs": [
    {
     "output_type": "stream",
     "name": "stdout",
     "text": [
      "mean-reversion speed: 0.2012, long-term mean: 2.2085, volatility: 0.4775\n"
     ]
    }
   ],
   "metadata": {}
  },
  {
   "cell_type": "code",
   "execution_count": 144,
   "source": [
    "import matplotlib.pyplot as plt\n",
    "plt.plot(df_spread.index, df_spread.iloc[:,c_baa])\n",
    "plt.hlines(theta, xmin=min(df_spread.index), xmax=max(df_spread.index), colors='red')\n",
    "plt.show()"
   ],
   "outputs": [
    {
     "output_type": "display_data",
     "data": {
      "image/png": "[encoded data removed]",
      "text/plain": [
       "<Figure size 432x288 with 1 Axes>"
      ]
     },
     "metadata": {
      "needs_background": "light"
     }
    }
   ],
   "metadata": {}
  },
  {
   "cell_type": "code",
   "execution_count": null,
   "source": [],
   "outputs": [],
   "metadata": {}
  }
 ],
 "metadata": {
  "orig_nbformat": 4,
  "language_info": {
   "name": "python",
   "version": "3.9.1",
   "mimetype": "text/x-python",
   "codemirror_mode": {
    "name": "ipython",
    "version": 3
   },
   "pygments_lexer": "ipython3",
   "nbconvert_exporter": "python",
   "file_extension": ".py"
  },
  "kernelspec": {
   "name": "python3",
   "display_name": "Python 3.9.1 64-bit"
  },
  "interpreter": {
   "hash": "aee8b7b246df8f9039afb4144a1f6fd8d2ca17a180786b69acc140d282b71a49"
  }
 },
 "nbformat": 4,
 "nbformat_minor": 2
}